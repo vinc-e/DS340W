{
 "cells": [
  {
   "cell_type": "code",
   "execution_count": 38,
   "id": "10a7f7aa-801d-44dc-a673-1ee944236979",
   "metadata": {},
   "outputs": [
    {
     "name": "stdout",
     "output_type": "stream",
     "text": [
      "root\n",
      " |-- player_id: string (nullable = true)\n",
      " |-- game_id: string (nullable = true)\n",
      " |-- home_team: string (nullable = true)\n",
      " |-- away_team: string (nullable = true)\n",
      " |-- season_type: string (nullable = true)\n",
      " |-- week.x: integer (nullable = true)\n",
      " |-- posteam: string (nullable = true)\n",
      " |-- posteam_type: string (nullable = true)\n",
      " |-- defteam: string (nullable = true)\n",
      " |-- side_of_field: string (nullable = true)\n",
      " |-- yardline_100: integer (nullable = true)\n",
      " |-- game_date: integer (nullable = true)\n",
      " |-- quarter_seconds_remaining: integer (nullable = true)\n",
      " |-- half_seconds_remaining: integer (nullable = true)\n",
      " |-- game_seconds_remaining: integer (nullable = true)\n",
      " |-- game_half: string (nullable = true)\n",
      " |-- qtr: string (nullable = true)\n",
      " |-- down: string (nullable = true)\n",
      " |-- time: double (nullable = true)\n",
      " |-- yrdln: string (nullable = true)\n",
      " |-- ydstogo: integer (nullable = true)\n",
      " |-- desc: string (nullable = true)\n",
      " |-- injured_first_name: string (nullable = true)\n",
      " |-- injured_last_name: string (nullable = true)\n",
      " |-- injured_team: string (nullable = true)\n",
      " |-- injured_player_num: integer (nullable = true)\n",
      " |-- Contact/ non-contact: string (nullable = true)\n",
      " |-- injury area: string (nullable = true)\n",
      " |-- player role: string (nullable = true)\n",
      " |-- season.x: integer (nullable = true)\n",
      " |-- season.y: integer (nullable = true)\n",
      " |-- team: string (nullable = true)\n",
      " |-- position: string (nullable = true)\n",
      " |-- depth_chart_position: string (nullable = true)\n",
      " |-- jersey_number: integer (nullable = true)\n",
      " |-- status: string (nullable = true)\n",
      " |-- full_name: string (nullable = true)\n",
      " |-- first_name: string (nullable = true)\n",
      " |-- last_name: string (nullable = true)\n",
      " |-- birth_date: string (nullable = true)\n",
      " |-- height: string (nullable = true)\n",
      " |-- weight: integer (nullable = true)\n",
      " |-- college: string (nullable = true)\n",
      " |-- years_exp: string (nullable = true)\n",
      " |-- game_type: string (nullable = true)\n",
      " |-- football_name: string (nullable = true)\n",
      " |-- smart_id: string (nullable = true)\n",
      " |-- entry_year: string (nullable = true)\n",
      "\n"
     ]
    }
   ],
   "source": [
    "from pyspark.sql import SparkSession\n",
    "\n",
    "spark = SparkSession.builder \\\n",
    "    .appName(\"Read CSV and Filter Head Injuries\") \\\n",
    "    .getOrCreate()\n",
    "\n",
    "df = spark.read.csv(\"/storage/home/mdl5637/DS340/more_injuries.csv\", header=True, inferSchema=True)\n",
    "\n",
    "\n",
    "head_injuries_df.printSchema()\n",
    "\n"
   ]
  },
  {
   "cell_type": "code",
   "execution_count": null,
   "id": "761c2f3e-58f4-4112-8089-bf80347a0ada",
   "metadata": {},
   "outputs": [],
   "source": [
    "head_injuries"
   ]
  },
  {
   "cell_type": "code",
   "execution_count": 40,
   "id": "12539d0a-b049-4334-a527-10755546b8c0",
   "metadata": {},
   "outputs": [
    {
     "name": "stdout",
     "output_type": "stream",
     "text": [
      "+-------------+--------+------+------+-----------+\n",
      "|  player role|position|height|weight|injury area|\n",
      "+-------------+--------+------+------+-----------+\n",
      "|      tackler|      DL|    74|   297|       head|\n",
      "|pass reciever|      WR|    73|   190|       head|\n",
      "| pass blocker|      RB|    69|   195|       head|\n",
      "|  pass rusher|      RB|    69|   195|       head|\n",
      "|      tackler|      DL|    74|   250|       head|\n",
      "| ball carrier|      WR|    69|   170|       head|\n",
      "| ball carrier|      QB|    77|   237|       head|\n",
      "|  run blocker|      OL|    75|   329|       head|\n",
      "| pass catcher|      WR|    72|   215|       head|\n",
      "|pass reciever|      WR|    72|   195|       head|\n",
      "|      tackler|      TE|    75|   248|       head|\n",
      "|           AP|      DL|    75|   294|       head|\n",
      "|      tackler|      DL|    73|   318|       head|\n",
      "|      tackler|      DB|    73|   210|       head|\n",
      "|      tackler|      DB|    74|   196|       head|\n",
      "|      tackler|      DB|    72|   208|       head|\n",
      "|      tackler|      LB|    74|   250|       head|\n",
      "|pass receiver|      WR|    71|   185|       head|\n",
      "| pass catcher|      TE|    77|   247|       head|\n",
      "|pass receiver|      TE|    77|   247|       head|\n",
      "+-------------+--------+------+------+-----------+\n",
      "only showing top 20 rows\n",
      "\n",
      "+-------------+--------+------+------+-----------+-----------+\n",
      "|  player role|position|height|weight|injury area|head_injury|\n",
      "+-------------+--------+------+------+-----------+-----------+\n",
      "|      tackler|      DL|    74|   297|       head|          1|\n",
      "|pass reciever|      WR|    73|   190|       head|          1|\n",
      "| pass blocker|      RB|    69|   195|       head|          1|\n",
      "|  pass rusher|      RB|    69|   195|       head|          1|\n",
      "|      tackler|      DL|    74|   250|       head|          1|\n",
      "| ball carrier|      WR|    69|   170|       head|          1|\n",
      "| ball carrier|      QB|    77|   237|       head|          1|\n",
      "|  run blocker|      OL|    75|   329|       head|          1|\n",
      "| pass catcher|      WR|    72|   215|       head|          1|\n",
      "|pass reciever|      WR|    72|   195|       head|          1|\n",
      "|      tackler|      TE|    75|   248|       head|          1|\n",
      "|           AP|      DL|    75|   294|       head|          1|\n",
      "|      tackler|      DL|    73|   318|       head|          1|\n",
      "|      tackler|      DB|    73|   210|       head|          1|\n",
      "|      tackler|      DB|    74|   196|       head|          1|\n",
      "|      tackler|      DB|    72|   208|       head|          1|\n",
      "|      tackler|      LB|    74|   250|       head|          1|\n",
      "|pass receiver|      WR|    71|   185|       head|          1|\n",
      "| pass catcher|      TE|    77|   247|       head|          1|\n",
      "|pass receiver|      TE|    77|   247|       head|          1|\n",
      "|      tackler|      DB|    75|   200|       head|          1|\n",
      "|      tackler|      DB|    71|   186|       head|          1|\n",
      "|      tackler|      DB|    71|   200|       head|          1|\n",
      "|pass receiver|      RB|    72|   213|       head|          1|\n",
      "|pass receiver|      WR|    75|   202|       head|          1|\n",
      "|  pass rusher|      LB|    77|   265|       head|          1|\n",
      "|      tackler|      LB|    74|   230|       head|          1|\n",
      "| run defender|      DL|    77|   285|       head|          1|\n",
      "|pass receiver|      TE|    76|   245|       head|          1|\n",
      "|pass defender|      LB|    72|   243|       head|          1|\n",
      "| pass catcher|      TE|    78|   252|       head|          1|\n",
      "|      tackler|      LB|    73|   240|       head|          1|\n",
      "|pass reciever|      WR|    70|   183|       head|          1|\n",
      "|pass reciever|      WR|    70|   183|       head|          1|\n",
      "|pass defender|      DB|    72|   209|       head|          1|\n",
      "|  pass rusher|      LB|    75|   255|       head|          1|\n",
      "| pass catcher|      WR|    70|   185|       head|          1|\n",
      "|      tackler|      DB|    74|   200|       head|          1|\n",
      "|      tackler|      DB|    74|   200|       head|          1|\n",
      "|  pass rusher|      DL|    76|   265|       head|          1|\n",
      "|pass receiver|      WR|    69|   195|       head|          1|\n",
      "|pass receiver|      WR|    75|   195|       head|          1|\n",
      "| ball carrier|      QB|    76|   226|       head|          1|\n",
      "| run defender|      DL|    75|   271|       head|          1|\n",
      "|pass defender|      DB|    73|   218|       head|          1|\n",
      "|      tackler|      DB|    73|   218|       head|          1|\n",
      "|  run blocker|      OL|    75|   300|       head|          1|\n",
      "| pass blocker|      OL|    79|   297|       head|          1|\n",
      "| run defender|      DL|    77|   265|       head|          1|\n",
      "|      tackler|      DB|    71|   215|       head|          1|\n",
      "|      tackler|      DL|    76|   315|       head|          1|\n",
      "|      tackler|      DB|    71|   208|       head|          1|\n",
      "|pass reciever|      TE|    77|   254|       head|          1|\n",
      "| ball carrier|      TE|    77|   250|       head|          1|\n",
      "|pass receiver|      WR|    75|   215|       head|          1|\n",
      "| ball carrier|      RB|    72|   210|       head|          1|\n",
      "| run defender|      DB|    69|   190|       head|          1|\n",
      "|pass reciever|      WR|    70|   201|       head|          1|\n",
      "|       passer|      QB|    76|   215|       head|          1|\n",
      "|      tackler|      DB|    69|   184|       head|          1|\n",
      "|          AFP|      LB|    74|   230|       head|          1|\n",
      "|pass receiver|      WR|    70|   181|       head|          1|\n",
      "|punt receiver|      WR|    70|   181|       head|          1|\n",
      "|pass receiver|      WR|    73|   215|       head|          1|\n",
      "|       passer|      QB|    77|   235|       head|          1|\n",
      "|      tackler|      LB|    73|   248|       head|          1|\n",
      "|pass defender|      DB|    75|   203|       head|          1|\n",
      "| ball carrier|      RB|    71|   222|       head|          1|\n",
      "| ball carrier|      TE|    76|   245|       head|          1|\n",
      "| run defender|      LB|    76|   246|       head|          1|\n",
      "|      tackler|      DL|    77|   275|       head|          1|\n",
      "|      tackler|      DL|    77|   275|       head|          1|\n",
      "|      tackler|      DB|    71|   193|       head|          1|\n",
      "| ball carrier|      RB|    71|   190|       head|          1|\n",
      "|      tackler|      RB|    72|   194|       head|          1|\n",
      "|pass reciever|      RB|    73|   240|       head|          1|\n",
      "| kickoff team|      LB|    74|   228|       head|          1|\n",
      "|      tackler|      DL|    77|   305|       head|          1|\n",
      "|      tackler|      DL|    75|   280|       head|          1|\n",
      "|pass reciever|      WR|    74|   215|       head|          1|\n",
      "| ball carrier|      RB|    68|   195|       head|          1|\n",
      "| pass blocker|      OL|    79|   309|       head|          1|\n",
      "| run defender|      LB|    NA|   258|       head|          1|\n",
      "| run defender|      DB|    72|   194|       head|          1|\n",
      "| run defender|      LB|    76|   265|       head|          1|\n",
      "|  run blocker|      RB|    75|   311|       head|          1|\n",
      "|       passer|      QB|    74|   212|       head|          1|\n",
      "|      tackler|      DB|    72|   191|       head|          1|\n",
      "|  run blocker|      OL|    78|   305|       head|          1|\n",
      "| ball carrier|      RB|    71|   222|       head|          1|\n",
      "| ball carrier|      TE|    75|   240|       head|          1|\n",
      "|      tackler|      LB|    76|   268|       head|          1|\n",
      "|      tackler|      DB|    70|   192|       head|          1|\n",
      "| pass catcher|      WR|    74|   203|       head|          1|\n",
      "| ball carrier|      QB|    74|   220|       head|          1|\n",
      "|          AFP|      DB|    72|   202|       head|          1|\n",
      "| ball carrier|      WR|    69|   176|       head|          1|\n",
      "|      tackler|      DB|    72|   191|       head|          1|\n",
      "|pass reciever|      WR|    76|   207|       head|          1|\n",
      "|  run blocker|      TE|    76|   250|       head|          1|\n",
      "+-------------+--------+------+------+-----------+-----------+\n",
      "only showing top 100 rows\n",
      "\n"
     ]
    }
   ],
   "source": [
    "#df to look at position and impact on injury rate\n",
    "pos_df = head_injuries_df.select(\"player role\", \"position\", \"height\", \"weight\", \"injury area\")\n",
    "pos_df.show()\n",
    "\n",
    "from pyspark.sql.functions import when\n",
    "\n",
    "pos_df = pos_df.withColumn(\"head_injury\", when(pos_df[\"injury area\"] == \"head\", 1).otherwise(0))\n",
    "pos_df.show(100)"
   ]
  },
  {
   "cell_type": "code",
   "execution_count": null,
   "id": "4ded93a5-3eb2-4c2e-98eb-c7b1c1160e82",
   "metadata": {},
   "outputs": [],
   "source": []
  },
  {
   "cell_type": "code",
   "execution_count": 20,
   "id": "e513dcd1-fa6b-45b8-a726-a71185238cab",
   "metadata": {},
   "outputs": [
    {
     "data": {
      "image/png": "[encoded data removed]",
      "text/plain": [
       "<Figure size 720x432 with 1 Axes>"
      ]
     },
     "metadata": {
      "needs_background": "light"
     },
     "output_type": "display_data"
    }
   ],
   "source": [
    "import matplotlib.pyplot as plt\n",
    "\n",
    "weight_bins = [0, 100, 120, 140, 160, 180, 200, 220, 240, 260, float('inf')]\n",
    "weight_labels = ['0-100', '101-120', '121-140', '141-160', '161-180', '181-200', '201-220', '221-240', '241-260', '261+']\n",
    "\n",
    "from pyspark.sql.functions import when\n",
    "pos_df = pos_df.withColumn(\"weight_bin\", \n",
    "                           when((pos_df[\"weight\"] >= 0) & (pos_df[\"weight\"] <= 100), '0-100')\n",
    "                           .when((pos_df[\"weight\"] > 100) & (pos_df[\"weight\"] <= 120), '101-120')\n",
    "                           .when((pos_df[\"weight\"] > 120) & (pos_df[\"weight\"] <= 140), '121-140')\n",
    "                           .when((pos_df[\"weight\"] > 140) & (pos_df[\"weight\"] <= 160), '141-160')\n",
    "                           .when((pos_df[\"weight\"] > 160) & (pos_df[\"weight\"] <= 180), '161-180')\n",
    "                           .when((pos_df[\"weight\"] > 180) & (pos_df[\"weight\"] <= 200), '181-200')\n",
    "                           .when((pos_df[\"weight\"] > 200) & (pos_df[\"weight\"] <= 220), '201-220')\n",
    "                           .when((pos_df[\"weight\"] > 220) & (pos_df[\"weight\"] <= 240), '221-240')\n",
    "                           .when((pos_df[\"weight\"] > 240) & (pos_df[\"weight\"] <= 260), '241-260')\n",
    "                           .otherwise('261+'))\n",
    "\n",
    "weight_counts = pos_df.groupBy(\"weight_bin\").count().orderBy(\"weight_bin\").collect()\n",
    "\n",
    "weights = [row[\"weight_bin\"] for row in weight_counts]\n",
    "injury_numbers = [row[\"count\"] for row in weight_counts]\n",
    "\n",
    "plt.figure(figsize=(10, 6))\n",
    "plt.bar(weights, injury_numbers, color='skyblue')\n",
    "plt.xlabel('Weight (lbs)')\n",
    "plt.ylabel('Number of Injuries')\n",
    "plt.title('Injury Numbers by Weight Class')\n",
    "plt.xticks(rotation=45)\n",
    "plt.grid(axis='y', linestyle='--', alpha=0.7)\n",
    "plt.show()\n"
   ]
  },
  {
   "cell_type": "code",
   "execution_count": 21,
   "id": "f691a7bf-6ba1-4f20-96a5-d94470e4d413",
   "metadata": {},
   "outputs": [
    {
     "data": {
      "image/png": "[encoded data removed]",
      "text/plain": [
       "<Figure size 720x432 with 1 Axes>"
      ]
     },
     "metadata": {
      "needs_background": "light"
     },
     "output_type": "display_data"
    }
   ],
   "source": [
    "import matplotlib.pyplot as plt\n",
    "\n",
    "position_counts = pos_df.groupBy(\"position\").count().orderBy(\"position\").collect()\n",
    "\n",
    "positions = [row[\"position\"] for row in position_counts]\n",
    "injury_numbers = [row[\"count\"] for row in position_counts]\n",
    "\n",
    "plt.figure(figsize=(10, 6))\n",
    "plt.bar(positions, injury_numbers, color='skyblue')\n",
    "plt.xlabel('Position')\n",
    "plt.ylabel('Number of Injuries')\n",
    "plt.title('Injury Numbers by Position')\n",
    "plt.xticks(rotation=45)\n",
    "plt.grid(axis='y', linestyle='--', alpha=0.7)\n",
    "plt.show()\n"
   ]
  },
  {
   "cell_type": "code",
   "execution_count": 24,
   "id": "e6142ce8-2e37-4505-9e8a-789262e20172",
   "metadata": {},
   "outputs": [
    {
     "name": "stdout",
     "output_type": "stream",
     "text": [
      "+--------+------+-----------+----------+\n",
      "|position|weight|injury area|prediction|\n",
      "+--------+------+-----------+----------+\n",
      "|      DL|   294|       head|       0.0|\n",
      "|      RB|   195|       head|       0.0|\n",
      "|      RB|   190|       head|       0.0|\n",
      "|      TE|   240|       head|       0.0|\n",
      "|      WR|   190|       head|       0.0|\n",
      "|      RB|   195|       head|       0.0|\n",
      "|      WR|   203|       head|       0.0|\n",
      "|      DB|   218|       head|       0.0|\n",
      "|      WR|   185|       head|       0.0|\n",
      "|      WR|   195|       head|       0.0|\n",
      "|      WR|   180|       head|       0.0|\n",
      "|      WR|   195|       head|       0.0|\n",
      "|      WR|   215|       head|       0.0|\n",
      "|      WR|   183|       head|       0.0|\n",
      "|      DL|   265|       head|       0.0|\n",
      "|      WR|   181|       head|       0.0|\n",
      "|      DB|   190|       head|       0.0|\n",
      "|      DB|   195|       head|       0.0|\n",
      "|      DB|   200|       head|       0.0|\n",
      "|      DL|   297|       head|       0.0|\n",
      "+--------+------+-----------+----------+\n",
      "only showing top 20 rows\n",
      "\n"
     ]
    }
   ],
   "source": [
    "from pyspark.ml.feature import StringIndexer, VectorAssembler\n",
    "from pyspark.ml.classification import DecisionTreeClassifier\n",
    "from pyspark.ml import Pipeline\n",
    "\n",
    "indexer_position = StringIndexer(inputCol=\"position\", outputCol=\"position_indexed\")\n",
    "indexer_injury = StringIndexer(inputCol=\"injury area\", outputCol=\"label\")\n",
    "assembler = VectorAssembler(inputCols=[\"position_indexed\", \"weight\"], outputCol=\"features\")\n",
    "dt = DecisionTreeClassifier(labelCol=\"label\", featuresCol=\"features\")\n",
    "pipeline = Pipeline(stages=[indexer_position, indexer_injury, assembler, dt])\n",
    "(training_data, test_data) = pos_df.randomSplit([0.8, 0.2], seed=42)\n",
    "model = pipeline.fit(training_data)\n",
    "predictions = model.transform(test_data)\n",
    "predictions.select(\"position\", \"weight\", \"injury area\", \"prediction\").show()\n"
   ]
  },
  {
   "cell_type": "code",
   "execution_count": 47,
   "id": "8894b4b8-47d4-4dc5-8ee5-83685f73a226",
   "metadata": {},
   "outputs": [
    {
     "name": "stdout",
     "output_type": "stream",
     "text": [
      "Correlation between position and weight: 0.6603194331672253\n"
     ]
    }
   ],
   "source": [
    "from pyspark.ml.feature import StringIndexer\n",
    "\n",
    "indexer_position = StringIndexer(inputCol=\"position\", outputCol=\"position_indexed\")\n",
    "pos_df_indexed = indexer_position.fit(pos_df).transform(pos_df)\n",
    "\n",
    "correlation = pos_df_indexed.stat.corr(\"position_indexed\", \"weight\")\n",
    "\n",
    "print(\"Correlation between position and weight:\", correlation)\n"
   ]
  },
  {
   "cell_type": "code",
   "execution_count": 55,
   "id": "6f42ee50-3ba0-45b1-bc25-5cdcc81eb66f",
   "metadata": {},
   "outputs": [
    {
     "data": {
      "image/png": "[encoded data removed]",
      "text/plain": [
       "<Figure size 720x432 with 1 Axes>"
      ]
     },
     "metadata": {
      "needs_background": "light"
     },
     "output_type": "display_data"
    }
   ],
   "source": [
    "import matplotlib.pyplot as plt\n",
    "\n",
    "df = df.withColumnRenamed(\"week.x\", \"week\")\n",
    "\n",
    "week_game_seconds_df = df.select(\"week\", \"game_seconds_remaining\")\n",
    "\n",
    "injuries_by_week = week_game_seconds_df.groupBy(\"week\").count().orderBy(\"week\")\n",
    "\n",
    "injuries_by_week_df = injuries_by_week.toPandas()\n",
    "\n",
    "plt.figure(figsize=(10, 6))\n",
    "plt.bar(injuries_by_week_df[\"week\"], injuries_by_week_df[\"count\"], color='skyblue')\n",
    "plt.xlabel(\"Week\")\n",
    "plt.ylabel(\"Number of Injuries\")\n",
    "plt.title(\"Number of Injuries by Week\")\n",
    "plt.xticks(injuries_by_week_df[\"week\"])\n",
    "plt.grid(axis=\"y\", linestyle=\"--\", alpha=0.7)\n",
    "plt.show()\n"
   ]
  },
  {
   "cell_type": "code",
   "execution_count": null,
   "id": "43f737ac-d918-4b8b-a573-3b368066dc02",
   "metadata": {},
   "outputs": [],
   "source": []
  }
 ],
 "metadata": {
  "kernelspec": {
   "display_name": "Python 3",
   "language": "python",
   "name": "python3"
  },
  "language_info": {
   "codemirror_mode": {
    "name": "ipython",
    "version": 3
   },
   "file_extension": ".py",
   "mimetype": "text/x-python",
   "name": "python",
   "nbconvert_exporter": "python",
   "pygments_lexer": "ipython3",
   "version": "3.8.8"
  }
 },
 "nbformat": 4,
 "nbformat_minor": 5
}
