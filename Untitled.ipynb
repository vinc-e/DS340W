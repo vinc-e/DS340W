{
 "cells": [
  {
   "cell_type": "code",
   "execution_count": 6,
   "id": "eb680084-42e6-481a-909c-cc90c088aa64",
   "metadata": {},
   "outputs": [
    {
     "name": "stdout",
     "output_type": "stream",
     "text": [
      "Root Mean Squared Error (RMSE) on test data = 1.84398\n"
     ]
    }
   ],
   "source": [
    "from pyspark.sql import SparkSession\n",
    "from pyspark.ml.feature import VectorAssembler, StringIndexer, OneHotEncoder\n",
    "from pyspark.ml.regression import GeneralizedLinearRegression\n",
    "from pyspark.ml.evaluation import RegressionEvaluator\n",
    "\n",
    "# Initialize SparkSession\n",
    "spark = SparkSession.builder \\\n",
    "    .appName(\"PoissonRegression\") \\\n",
    "    .getOrCreate()\n",
    "\n",
    "# Load your dataset into a Spark DataFrame\n",
    "data = spark.read.csv(\"/storage/home/mdl5637/DS340/injuries.csv\", header=True, inferSchema=True)\n",
    "\n",
    "# Select relevant columns\n",
    "selected_data = data.select(['surface', 'Avg_Temp', 'num_injuries'])\n",
    "\n",
    "# Preprocess categorical variable 'surface'\n",
    "string_indexer = StringIndexer(inputCol=\"surface\", outputCol=\"surface_index\")\n",
    "encoder = OneHotEncoder(inputCol=\"surface_index\", outputCol=\"surface_encoded\")\n",
    "\n",
    "# Define pipeline\n",
    "pipeline = Pipeline(stages=[string_indexer, encoder])\n",
    "\n",
    "# Fit pipeline\n",
    "pipeline_model = pipeline.fit(selected_data)\n",
    "\n",
    "# Apply pipeline to data\n",
    "transformed_data = pipeline_model.transform(selected_data)\n",
    "\n",
    "# Prepare data for modeling\n",
    "assembler = VectorAssembler(inputCols=['surface_encoded', 'Avg_Temp'], outputCol=\"features\")\n",
    "prepared_data = assembler.transform(transformed_data).select(\"features\", \"num_injuries\")\n",
    "\n",
    "# Split data into training and testing sets\n",
    "train_data, test_data = prepared_data.randomSplit([0.8, 0.2], seed=123)\n",
    "\n",
    "# Define Poisson regression model\n",
    "poisson_reg = GeneralizedLinearRegression(featuresCol='features', labelCol='num_injuries', \n",
    "                                          family=\"poisson\", link=\"log\")\n",
    "\n",
    "# Train the model\n",
    "poisson_model = poisson_reg.fit(train_data)\n",
    "\n",
    "# Make predictions\n",
    "predictions = poisson_model.transform(test_data)\n",
    "\n",
    "# Evaluate model performance\n",
    "evaluator = RegressionEvaluator(labelCol=\"num_injuries\", predictionCol=\"prediction\", metricName=\"rmse\")\n",
    "rmse = evaluator.evaluate(predictions)\n",
    "\n",
    "print(\"Root Mean Squared Error (RMSE) on test data = %g\" % rmse)\n",
    "\n",
    "# Stop SparkSession\n",
    "spark.stop()\n"
   ]
  },
  {
   "cell_type": "code",
   "execution_count": 13,
   "id": "3a69aacd-8405-46f4-a6b5-5e88bb3da206",
   "metadata": {},
   "outputs": [
    {
     "data": {
      "image/png": "[encoded data removed]",
      "text/plain": [
       "<Figure size 576x432 with 1 Axes>"
      ]
     },
     "metadata": {
      "needs_background": "light"
     },
     "output_type": "display_data"
    }
   ],
   "source": [
    "from pyspark.sql import SparkSession\n",
    "from pyspark.ml.feature import VectorAssembler, StringIndexer, OneHotEncoder\n",
    "from pyspark.ml.regression import GeneralizedLinearRegression\n",
    "from pyspark.ml.evaluation import RegressionEvaluator\n",
    "import matplotlib.pyplot as plt\n",
    "import numpy as np\n",
    "\n",
    "# Initialize SparkSession\n",
    "spark = SparkSession.builder \\\n",
    "    .appName(\"PoissonRegression\") \\\n",
    "    .getOrCreate()\n",
    "\n",
    "# Load your dataset into a Spark DataFrame\n",
    "data = spark.read.csv(\"/storage/home/mdl5637/DS340/injuries.csv\", header=True, inferSchema=True)\n",
    "\n",
    "# Select relevant columns\n",
    "selected_data = data.select(['surface', 'Avg_Temp', 'num_injuries'])\n",
    "\n",
    "# Preprocess categorical variable 'surface'\n",
    "string_indexer = StringIndexer(inputCol=\"surface\", outputCol=\"surface_index\")\n",
    "encoder = OneHotEncoder(inputCol=\"surface_index\", outputCol=\"surface_encoded\")\n",
    "\n",
    "# Define pipeline\n",
    "pipeline = Pipeline(stages=[string_indexer, encoder])\n",
    "\n",
    "# Fit pipeline\n",
    "pipeline_model = pipeline.fit(selected_data)\n",
    "\n",
    "# Apply pipeline to data\n",
    "transformed_data = pipeline_model.transform(selected_data)\n",
    "\n",
    "# Prepare data for modeling\n",
    "assembler = VectorAssembler(inputCols=['surface_encoded', 'Avg_Temp'], outputCol=\"features\")\n",
    "prepared_data = assembler.transform(transformed_data).select(\"features\", \"num_injuries\")\n",
    "\n",
    "# Split data into training and testing sets\n",
    "train_data, test_data = prepared_data.randomSplit([0.8, 0.2], seed=123)\n",
    "\n",
    "# Define Poisson regression model\n",
    "poisson_reg = GeneralizedLinearRegression(featuresCol='features', labelCol='num_injuries', \n",
    "                                          family=\"poisson\", link=\"log\")\n",
    "\n",
    "# Train the model\n",
    "poisson_model = poisson_reg.fit(train_data)\n",
    "\n",
    "# Make predictions on the test data\n",
    "predictions = poisson_model.transform(test_data)\n",
    "\n",
    "# Convert predictions and actual values to Pandas DataFrame\n",
    "predictions_df = predictions.select(\"prediction\", \"num_injuries\").toPandas()\n",
    "\n",
    "# Collect predicted and actual values\n",
    "predicted_values = np.array(predictions_df[\"prediction\"])\n",
    "actual_values = np.array(predictions_df[\"num_injuries\"])\n",
    "\n",
    "# Plot predicted vs actual values\n",
    "plt.figure(figsize=(8, 6))\n",
    "plt.scatter(actual_values, predicted_values, color='coral', alpha=0.7)\n",
    "plt.plot([min(actual_values), max(actual_values)], [min(actual_values), max(actual_values)], linestyle='--', color='gray')\n",
    "plt.title('Predicted vs Actual Number of Injuries')\n",
    "plt.xlabel('Actual Number of Injuries')\n",
    "plt.ylabel('Predicted Number of Injuries')\n",
    "plt.grid(True)\n",
    "plt.show()\n",
    "\n",
    "# Stop SparkSession\n",
    "spark.stop()\n"
   ]
  }
 ],
 "metadata": {
  "kernelspec": {
   "display_name": "Python 3",
   "language": "python",
   "name": "python3"
  },
  "language_info": {
   "codemirror_mode": {
    "name": "ipython",
    "version": 3
   },
   "file_extension": ".py",
   "mimetype": "text/x-python",
   "name": "python",
   "nbconvert_exporter": "python",
   "pygments_lexer": "ipython3",
   "version": "3.8.8"
  }
 },
 "nbformat": 4,
 "nbformat_minor": 5
}
